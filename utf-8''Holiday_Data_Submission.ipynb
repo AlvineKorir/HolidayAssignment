{
 "cells": [
  {
   "cell_type": "markdown",
   "metadata": {},
   "source": [
    "# Holiday Prompt - Attempt 2"
   ]
  },
  {
   "cell_type": "markdown",
   "metadata": {},
   "source": [
    "The following prompt will be based around data for holidays in different countries around the world. Please, follow the prompts to complete the assignment.  Please use all variable names that we have requested in the prompts. When we have not requested a particular variable name, you are welcome to choose whatever variable name you would like. Once you have finished your solution for these prompts, you will be able to use it when answering some questions in the ***Full Entrance Assessment - Attempt 2*** quiz. You may have the notebook open while answering the quiz."
   ]
  },
  {
   "cell_type": "markdown",
   "metadata": {},
   "source": [
    "1. Provided is a file containing a json formatted string, detailing some holidays in 2016 that were celebrated in 41 different countries. The data is stored in a file called ``holiday_data.json`` which is in the same directory as this notebook. Your first task is to read in the data, convert it to a python object, and then assign the python object to the variable ``world_hol_data``."
   ]
  },
  {
   "cell_type": "code",
   "execution_count": 1,
   "metadata": {},
   "outputs": [],
   "source": [
    "import json\n",
    "f_data = open(\"holiday_data.json\").read()\n",
    "world_hol_data = json.loads(f_data) # fill in your answer here.\n",
    "\n"
   ]
  },
  {
   "cell_type": "code",
   "execution_count": null,
   "metadata": {},
   "outputs": [],
   "source": []
  },
  {
   "cell_type": "markdown",
   "metadata": {},
   "source": [
    "2. For each country, data has been stored using the following keys: ``locale``, ``region``, ``date``, ``description``, ``type``, and ``notes``. \n",
    "\n",
    "    ``locale`` is a combination of an ISO 639-1 language code, such as \"en\" (English), and an ISO 3166-1 alpha-2 country code, such as \"US\" (United States), separated by a hyphen. \n",
    "    \n",
    "    ``region`` is a subdivision of locale, for those locales that have regional holidays. For example, Patriot's Day is only observed in the en-US locale in Massachusetts and Maine, so there are entries for each of those states. \n",
    "    \n",
    "    ``date`` is provided in YYYY-MM-DD format. \n",
    "    \n",
    "    ``description`` is text that simply describes or names the holiday. \n",
    "    \n",
    "    ``type`` is a collection of single-character indicators that describe the holiday. \"N\" stands for \"national holiday\", which means it is locale-wide. \"R\" stands for \"religious holiday\". \"F\" stands for \"fixed holiday\" which means that it occurs on the same day each year. \"V\" stands for \"variable holiday\" which means that it typically occurs on a particular day of the week or month - for example it may be a Monday or the third Thursday in the month.\n",
    "    \n",
    "    ``notes`` are provided in some cases for clarification, but are not to be used as part of the holiday ``description``.\n",
    "    \n",
    "    **For this task, you should determine how many holidays are \"national holidays\". Assign that number to the variable ``total_national_hol``.**"
   ]
  },
  {
   "cell_type": "code",
   "execution_count": 5,
   "metadata": {},
   "outputs": [
    {
     "ename": "KeyError",
     "evalue": "'type'",
     "output_type": "error",
     "traceback": [
      "\u001b[0;31m---------------------------------------------------------------------------\u001b[0m",
      "\u001b[0;31mKeyError\u001b[0m                                  Traceback (most recent call last)",
      "\u001b[0;32m<ipython-input-5-3e3dd4db3b43>\u001b[0m in \u001b[0;36m<module>\u001b[0;34m()\u001b[0m\n\u001b[1;32m      2\u001b[0m \u001b[0;34m\u001b[0m\u001b[0m\n\u001b[1;32m      3\u001b[0m \u001b[0;32mfor\u001b[0m \u001b[0mcont\u001b[0m \u001b[0;32min\u001b[0m \u001b[0mworld_hol_data\u001b[0m\u001b[0;34m:\u001b[0m  \u001b[0;31m# fill in here\u001b[0m\u001b[0;34m\u001b[0m\u001b[0;34m\u001b[0m\u001b[0m\n\u001b[0;32m----> 4\u001b[0;31m     \u001b[0;32mif\u001b[0m \u001b[0;34m(\u001b[0m\u001b[0mworld_hol_data\u001b[0m\u001b[0;34m[\u001b[0m\u001b[0;34m\"type\"\u001b[0m\u001b[0;34m]\u001b[0m \u001b[0;34m==\u001b[0m \u001b[0;34m\"N\"\u001b[0m\u001b[0;34m)\u001b[0m\u001b[0;34m:\u001b[0m\u001b[0;34m\u001b[0m\u001b[0;34m\u001b[0m\u001b[0m\n\u001b[0m\u001b[1;32m      5\u001b[0m         \u001b[0mshade_count\u001b[0m \u001b[0;34m=\u001b[0m \u001b[0mcont\u001b[0m\u001b[0;34m[\u001b[0m\u001b[0mworld_hol_data\u001b[0m\u001b[0;34m]\u001b[0m\u001b[0;34m[\u001b[0m\u001b[0;34m\"type\"\u001b[0m\u001b[0;34m]\u001b[0m\u001b[0;34m\u001b[0m\u001b[0;34m\u001b[0m\u001b[0m\n\u001b[1;32m      6\u001b[0m         \u001b[0mtotal_national_hol\u001b[0m \u001b[0;34m+=\u001b[0m \u001b[0mhol_count\u001b[0m\u001b[0;34m\u001b[0m\u001b[0;34m\u001b[0m\u001b[0m\n",
      "\u001b[0;31mKeyError\u001b[0m: 'type'"
     ]
    }
   ],
   "source": [
    "total_national_hol = 0\n",
    "\n",
    "for cont in world_hol_data:  # fill in here\n",
    "    if (world_hol_data[\"type\"] == \"N\"):\n",
    "        shade_count = cont[world_hol_data][\"type\"]\n",
    "        total_national_hol += hol_count\n",
    "        \n",
    "print(total_national_hol)\n"
   ]
  },
  {
   "cell_type": "markdown",
   "metadata": {},
   "source": [
    "3. Below, we have outlined a class to represent a single holiday, called Holiday. Complete the ``__init__`` method by adding two additional attributes: holiday_type and number_of_types. holiday_type should be a list where each item is the type of holiday (either \"National\", \"Religious\", \"Fixed\", or \"Variable\"). number_of_types should be an integer, and represents how many types a holiday is (for example, a holiday may be only Variable, so number_of_types would be 1)."
   ]
  },
  {
   "cell_type": "code",
   "execution_count": null,
   "metadata": {},
   "outputs": [],
   "source": [
    "#define the class here\n",
    "class Holiday:\n",
    "    def __init__(self, full_country_name, dataset):\n",
    "        self.language = dataset['locale'].split(\"-\")[0]  # example: \"de\" for german or 'en' for english\n",
    "        self.country = full_country_name                 # example: \"Australia\" or \"Czech Republic\"\n",
    "        self.region = dataset['region']                  # example: \"\" or \"TAS\"\n",
    "        self.date = dataset['date']                      # example: \"2016-01-23\"\n",
    "        self.name = dataset['description']               # example: \"Nieuwjaar\" or \"Boxing Day\"\n",
    "        separated_types = [letter for letter in dataset[\"type\"]]\n",
    "        \n",
    "        #fill in here for holiday_type and number_of_types\n",
    "        #example of holiday_type: [\"Variable\"] or [\"National\", \"Fixed\"]\n",
    "        #example of number_of_types: 1 or 2\n",
    "        \n",
    "        \n",
    "        \n",
    "        self.notes = dataset['notes']                    # example: \"\" or \"3rd monday in Feb.\"\n",
    "        \n",
    "    def get_date(self):\n",
    "        return self.date\n",
    "    \n",
    "    def __str__(self):\n",
    "        return \"{} celebrates {} on {}. It is a {} holiday.\".format(self.country, self.name, self.date, \" \".join(self.holiday_type))\n",
    "\n"
   ]
  },
  {
   "cell_type": "markdown",
   "metadata": {},
   "source": [
    "4. Below is a list of countries that we expect to be included in the dataset. Create a list of instances of the holiday class, using the world_hol_data, and assign the list to the variable called ``all_hol``.\n",
    "\n",
    "What is the name of the fourth holiday in all_hol? Note that when we say fourth, we mean from the human perspective.\n",
    "\n",
    "What is the output when the fourth holiday is printed? Note that this is not asking for output that is formatted in the following manner: ``<__main__.Holiday object at 0x10878de10>``. Instead, we are asking for the output that uses the __str__ method."
   ]
  },
  {
   "cell_type": "code",
   "execution_count": null,
   "metadata": {},
   "outputs": [],
   "source": [
    "countries = ['Austria', 'Australia', 'Belgium', 'Brazil', 'Belarus', 'Canada', 'Switzerland', 'Colombia', 'Czech Republic', 'Germany', 'Denmark', 'Ecuador', 'Estonia', 'Spain', 'Finland', 'France', 'United Kingdom', 'Greenland', 'Greece', 'Hong Kong', 'Croatia', 'Ireland', 'India', 'Iceland', 'Italy', 'Japan', 'Lithuania', 'Latvia', 'Mexico', 'Netherlands', 'Norway', 'New Zealand', 'Poland', 'Portugal', 'Russian Federation', 'Sweden', 'Svalbard And Jan Mayen', 'Slovakia', 'Turkey', 'United States', 'South Africa']\n",
    "all_hol = []\n",
    "for country in countries:\n",
    "    # fill in here\n"
   ]
  },
  {
   "cell_type": "markdown",
   "metadata": {},
   "source": [
    "5. Finally, determine the five most common days to have a holiday on across all countries. We have initialized a dictionary for you to use, but if you would like to use another data type then feel free to. Assign this list to the variable ``top_five_hol_days``. Note that we would expect each item in ``top_five_hol_days`` to be a string where the date is in YYYY-MM-DD format."
   ]
  },
  {
   "cell_type": "code",
   "execution_count": null,
   "metadata": {},
   "outputs": [],
   "source": [
    "hol_freq = {}\n",
    "for inst in all_hol:\n",
    "    # fill in here\n",
    "\n",
    "top_five_hol_days = # fill in here\n",
    "print(top_five_hol_days)\n"
   ]
  },
  {
   "cell_type": "markdown",
   "metadata": {},
   "source": [
    "# Tests you can run to check if you have likely answered the prompts correctly. \n",
    "These tests will not contain answers to the questions you will fill in later. To provide some additional feedback, these tests will check some of the variables or values involved in the correct solutions."
   ]
  },
  {
   "cell_type": "code",
   "execution_count": 7,
   "metadata": {},
   "outputs": [
    {
     "name": "stderr",
     "output_type": "stream",
     "text": [
      "test_prompt_five_sorting_contents (__main__.MyTests) ... ERROR\n",
      "test_prompt_five_sorting_len (__main__.MyTests) ... ERROR\n",
      "test_prompt_four_class (__main__.MyTests) ... ERROR\n",
      "test_prompt_four_contents (__main__.MyTests) ... ERROR\n",
      "test_prompt_four_length (__main__.MyTests) ... ERROR\n",
      "test_prompt_one_contents (__main__.MyTests) ... ok\n",
      "test_prompt_three_Autumn_Feast (__main__.MyTests) ... ERROR\n",
      "test_prompt_three_Spring_Festival (__main__.MyTests) ... ERROR\n",
      "test_prompt_two (__main__.MyTests) ... FAIL\n",
      "\n",
      "======================================================================\n",
      "ERROR: test_prompt_five_sorting_contents (__main__.MyTests)\n",
      "----------------------------------------------------------------------\n",
      "Traceback (most recent call last):\n",
      "  File \"<ipython-input-7-561228fbb3ee>\", line 26, in test_prompt_five_sorting_contents\n",
      "    self.assertEqual(top_five_hol_days[0], '2016-03-25', \"Testing that the first item has the expected date.\")\n",
      "NameError: name 'top_five_hol_days' is not defined\n",
      "\n",
      "======================================================================\n",
      "ERROR: test_prompt_five_sorting_len (__main__.MyTests)\n",
      "----------------------------------------------------------------------\n",
      "Traceback (most recent call last):\n",
      "  File \"<ipython-input-7-561228fbb3ee>\", line 28, in test_prompt_five_sorting_len\n",
      "    self.assertEqual(len(top_five_hol_days), 5, \"Testing that the len of top_five_hol_days is five.\")\n",
      "NameError: name 'top_five_hol_days' is not defined\n",
      "\n",
      "======================================================================\n",
      "ERROR: test_prompt_four_class (__main__.MyTests)\n",
      "----------------------------------------------------------------------\n",
      "Traceback (most recent call last):\n",
      "  File \"<ipython-input-7-561228fbb3ee>\", line 24, in test_prompt_four_class\n",
      "    self.assertIsInstance(all_hol[0], Holiday, \"Testing that the items in all_hol are instances of the Holiday class.\")\n",
      "NameError: name 'all_hol' is not defined\n",
      "\n",
      "======================================================================\n",
      "ERROR: test_prompt_four_contents (__main__.MyTests)\n",
      "----------------------------------------------------------------------\n",
      "Traceback (most recent call last):\n",
      "  File \"<ipython-input-7-561228fbb3ee>\", line 19, in test_prompt_four_contents\n",
      "    self.assertEqual(all_hol[-1].get_date(), \"2016-12-26\", \"Testing that the date of the last item in all_hol is matches the expected value.\")\n",
      "NameError: name 'all_hol' is not defined\n",
      "\n",
      "======================================================================\n",
      "ERROR: test_prompt_four_length (__main__.MyTests)\n",
      "----------------------------------------------------------------------\n",
      "Traceback (most recent call last):\n",
      "  File \"<ipython-input-7-561228fbb3ee>\", line 22, in test_prompt_four_length\n",
      "    self.assertEqual(len(all_hol), 749, \"Testing that the number of items in all_hol matches the expected value.\")\n",
      "NameError: name 'all_hol' is not defined\n",
      "\n",
      "======================================================================\n",
      "ERROR: test_prompt_three_Autumn_Feast (__main__.MyTests)\n",
      "----------------------------------------------------------------------\n",
      "Traceback (most recent call last):\n",
      "  File \"<ipython-input-7-561228fbb3ee>\", line 11, in test_prompt_three_Autumn_Feast\n",
      "    example_ints = Holiday(\"Narnia\", {'locale': 'en-NA', 'region': '', 'date': 'XXXX-11-05', 'description': \"Autumn Feast\", 'type': 'V', 'notes': '1st Friday in Nov.'})\n",
      "NameError: name 'Holiday' is not defined\n",
      "\n",
      "======================================================================\n",
      "ERROR: test_prompt_three_Spring_Festival (__main__.MyTests)\n",
      "----------------------------------------------------------------------\n",
      "Traceback (most recent call last):\n",
      "  File \"<ipython-input-7-561228fbb3ee>\", line 15, in test_prompt_three_Spring_Festival\n",
      "    example_ints = Holiday(\"Narnia\", {'locale': 'en-NA', 'region': '', 'date': 'XXXX-04-8', 'description': \"Spring Festival\", 'type': 'NV', 'notes': '2nd Saturday in April.'})\n",
      "NameError: name 'Holiday' is not defined\n",
      "\n",
      "======================================================================\n",
      "FAIL: test_prompt_two (__main__.MyTests)\n",
      "----------------------------------------------------------------------\n",
      "Traceback (most recent call last):\n",
      "  File \"<ipython-input-7-561228fbb3ee>\", line 9, in test_prompt_two\n",
      "    self.assertTrue((total_national_hol > 500 and total_national_hol < 700), \"Testing that the value assigned to total_national_hol is within the expected range.\")\n",
      "AssertionError: False is not true : Testing that the value assigned to total_national_hol is within the expected range.\n",
      "\n",
      "----------------------------------------------------------------------\n",
      "Ran 9 tests in 0.007s\n",
      "\n",
      "FAILED (failures=1, errors=7)\n"
     ]
    },
    {
     "data": {
      "text/plain": [
       "<unittest.main.TestProgram at 0x7f8751fdeb70>"
      ]
     },
     "execution_count": 7,
     "metadata": {},
     "output_type": "execute_result"
    }
   ],
   "source": [
    "import unittest\n",
    "class MyTests(unittest.TestCase): \n",
    "    def test_prompt_one_contents(self):\n",
    "        self.assertEqual(len(world_hol_data), 41, \"Testing that then length of world_hol_data is matches the expected value.\")\n",
    "        self.assertIn('Austria', world_hol_data, \"Testing that Austria is in world_hol_data.\")\n",
    "        self.assertIn('Estonia', world_hol_data, \"Testing that Estonia is in world_hol_data.\")\n",
    "        self.assertIn('South Africa', world_hol_data, \"Testing that South Africa is in world_hol_data.\")\n",
    "    def test_prompt_two(self):\n",
    "        self.assertTrue((total_national_hol > 500 and total_national_hol < 700), \"Testing that the value assigned to total_national_hol is within the expected range.\")\n",
    "    def test_prompt_three_Autumn_Feast(self):\n",
    "        example_ints = Holiday(\"Narnia\", {'locale': 'en-NA', 'region': '', 'date': 'XXXX-11-05', 'description': \"Autumn Feast\", 'type': 'V', 'notes': '1st Friday in Nov.'})\n",
    "        self.assertEqual(example_ints.holiday_type, [\"Variable\"], \"Testing that the holiday_type attribute is set correctly.\")\n",
    "        self.assertEqual(example_ints.number_of_types, 1, \"Testing that the number_of_types attribute is set correctly.\")\n",
    "    def test_prompt_three_Spring_Festival(self):\n",
    "        example_ints = Holiday(\"Narnia\", {'locale': 'en-NA', 'region': '', 'date': 'XXXX-04-8', 'description': \"Spring Festival\", 'type': 'NV', 'notes': '2nd Saturday in April.'})\n",
    "        self.assertEqual(example_ints.holiday_type, [\"National\", \"Variable\"], \"Testing that the holiday_type attribute is set correctly.\")\n",
    "        self.assertEqual(example_ints.number_of_types, 2, \"Testing that the number_of_types attribute is set correctly.\")\n",
    "    def test_prompt_four_contents(self):\n",
    "        self.assertEqual(all_hol[-1].get_date(), \"2016-12-26\", \"Testing that the date of the last item in all_hol is matches the expected value.\")\n",
    "        self.assertEqual(all_hol[-1].name, \"Day of Goodwill\", \"Testing that the name of the last item in all_hol is matches the expected value.\")\n",
    "    def test_prompt_four_length(self):\n",
    "        self.assertEqual(len(all_hol), 749, \"Testing that the number of items in all_hol matches the expected value.\")\n",
    "    def test_prompt_four_class(self):\n",
    "        self.assertIsInstance(all_hol[0], Holiday, \"Testing that the items in all_hol are instances of the Holiday class.\")\n",
    "    def test_prompt_five_sorting_contents(self):\n",
    "        self.assertEqual(top_five_hol_days[0], '2016-03-25', \"Testing that the first item has the expected date.\")\n",
    "    def test_prompt_five_sorting_len(self):\n",
    "        self.assertEqual(len(top_five_hol_days), 5, \"Testing that the len of top_five_hol_days is five.\")\n",
    "\n",
    "        \n",
    "        \n",
    "\n",
    "unittest.main(argv=['first-arg-is-ignored'], exit=False, verbosity=2)"
   ]
  },
  {
   "cell_type": "code",
   "execution_count": null,
   "metadata": {},
   "outputs": [],
   "source": []
  }
 ],
 "metadata": {
  "kernelspec": {
   "display_name": "Python 3",
   "language": "python",
   "name": "python3"
  },
  "language_info": {
   "codemirror_mode": {
    "name": "ipython",
    "version": 3
   },
   "file_extension": ".py",
   "mimetype": "text/x-python",
   "name": "python",
   "nbconvert_exporter": "python",
   "pygments_lexer": "ipython3",
   "version": "3.6.8"
  }
 },
 "nbformat": 4,
 "nbformat_minor": 2
}
